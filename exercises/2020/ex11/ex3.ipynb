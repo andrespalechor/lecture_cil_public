{
 "cells": [
  {
   "cell_type": "markdown",
   "metadata": {},
   "source": [
    "# Understanding compressed sensing with a simple example"
   ]
  },
  {
   "cell_type": "code",
   "execution_count": 8,
   "metadata": {},
   "outputs": [],
   "source": [
    "import matplotlib.pyplot as plt\n",
    "import numpy as np\n",
    "import sklearn.linear_model as linear_model"
   ]
  },
  {
   "cell_type": "markdown",
   "metadata": {},
   "source": [
    "First, we generate the matrix $U$ corresponding to the dictionary of Haar wavelets.\n",
    "\n",
    "same as last week :)"
   ]
  },
  {
   "cell_type": "code",
   "execution_count": 9,
   "metadata": {},
   "outputs": [],
   "source": [
    "def haarMatrix(n):\n",
    "    if n > 2:\n",
    "        h = haarMatrix(n / 2)\n",
    "    else:\n",
    "        return np.array([[1, 1], [1, -1]])\n",
    "\n",
    "    # calculate upper haar part\n",
    "    h_n = np.kron(h, [1, 1])\n",
    "    \n",
    "    # calculate lower haar part \n",
    "    h_i = np.sqrt(n/2)*np.kron(np.eye(len(h)), [1, -1])\n",
    "\n",
    "    # combine parts\n",
    "    h = np.vstack((h_n, h_i))\n",
    "    return h"
   ]
  },
  {
   "cell_type": "code",
   "execution_count": 10,
   "metadata": {},
   "outputs": [
    {
     "data": {
      "image/png": "[encoded data removed]",
      "text/plain": [
       "<Figure size 432x288 with 2 Axes>"
      ]
     },
     "metadata": {
      "needs_background": "light"
     },
     "output_type": "display_data"
    }
   ],
   "source": [
    "D = 512 #size of the dictionary. MUST be a power of 2.\n",
    "U = np.transpose(haarMatrix(D)/np.sqrt(D)) #computing dictionary matrix. \n",
    "plt.imshow(U, cmap='PiYG', interpolation='nearest')\n",
    "plt.colorbar()\n",
    "plt.show()"
   ]
  },
  {
   "cell_type": "markdown",
   "metadata": {},
   "source": [
    "**TASK A** : generate a random signal $x = Uz$ for some $z$ s.t. $\\|z\\|_0\\ll D$ and project it to $M\\ll D$ random directions, which you encode in a matrix $W$. Call the resulting vector $Wx =: y\\in\\mathbb{R}^M$ as in the lecture. Plot $x,z,y$."
   ]
  },
  {
   "cell_type": "code",
   "execution_count": 11,
   "metadata": {},
   "outputs": [],
   "source": [
    "#generating the sparse signal\n",
    "\n",
    "#doing the random projection\n",
    "\n",
    "#plotting\n"
   ]
  },
  {
   "cell_type": "markdown",
   "metadata": {},
   "source": [
    "**TASK B** : generate the matrix $\\Theta = W U$ you saw in the lecture. "
   ]
  },
  {
   "cell_type": "code",
   "execution_count": 12,
   "metadata": {},
   "outputs": [],
   "source": [
    "#plotting Theta"
   ]
  },
  {
   "cell_type": "markdown",
   "metadata": {},
   "source": [
    "**TASK C** : We have that $y = \\Theta z$ and we want to solve for $z$. Is the solution unique?\n",
    "\n",
    "Solve the problem using linear least squares, that is\n",
    "$$\\hat z_{LS} = \\text{argmin}_{z} \\|y - \\Theta z\\|^2,$$\n",
    "\n",
    "and compare $\\hat z_{LS}$ to $z$. What do you notice? How is the signal reconstruction?\n",
    "\n",
    "*HINT : check documentation at* https://scikit-learn.org/stable/modules/generated/sklearn.linear_model.LinearRegression.html"
   ]
  },
  {
   "cell_type": "code",
   "execution_count": 13,
   "metadata": {},
   "outputs": [],
   "source": [
    "#fitting the model, plotting the result"
   ]
  },
  {
   "cell_type": "markdown",
   "metadata": {},
   "source": [
    "**TASK D** : Get a better solution by solving a different (regularized) optimization problem. Compare the result with the groud truth and reconstruct the signal $x$. \n",
    "\n",
    "Comment your solution, why is this better? How does the solution change by changing the regularizer power?\n",
    "    \n",
    "*HINT : induce sparsity.. remember basic statistics!*"
   ]
  },
  {
   "cell_type": "code",
   "execution_count": 14,
   "metadata": {},
   "outputs": [],
   "source": [
    "#fitting the model, plotting the result\n"
   ]
  }
 ],
 "metadata": {
  "kernelspec": {
   "display_name": "Python 3",
   "language": "python",
   "name": "python3"
  },
  "language_info": {
   "codemirror_mode": {
    "name": "ipython",
    "version": 3
   },
   "file_extension": ".py",
   "mimetype": "text/x-python",
   "name": "python",
   "nbconvert_exporter": "python",
   "pygments_lexer": "ipython3",
   "version": "3.7.1"
  }
 },
 "nbformat": 4,
 "nbformat_minor": 2
}
