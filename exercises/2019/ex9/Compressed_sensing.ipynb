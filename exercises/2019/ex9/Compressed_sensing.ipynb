{
 "cells": [
  {
   "cell_type": "code",
   "execution_count": null,
   "metadata": {
    "collapsed": false
   },
   "outputs": [],
   "source": [
    "# CIL EXCERCISE 11 : COMPRESSED SENSING \n",
    "# ETH Zurich \n",
    "# @ Author: Hadi Daneshmand, Xinrui Lyu\n",
    "# required libraries \n",
    "import numpy as np\n",
    "from matplotlib import pyplot as plt\n",
    "from skimage import io \n",
    "from sklearn.linear_model import Lasso\n",
    "from scipy.fftpack import dct,idct\n",
    "%pylab\n",
    "%matplotlib inline"
   ]
  },
  {
   "cell_type": "code",
   "execution_count": null,
   "metadata": {
    "collapsed": false
   },
   "outputs": [],
   "source": [
    "# creating image \n",
    "img = np.zeros((128,128))\n",
    "w = 64\n",
    "for i in range(w): \n",
    "    img[i,:]= 1\n",
    "plt.gray()\n",
    "plt.imshow(img)"
   ]
  },
  {
   "cell_type": "markdown",
   "metadata": {},
   "source": [
    "We want to reconstract the above image from a few random measurements that are generated as: "
   ]
  },
  {
   "cell_type": "code",
   "execution_count": null,
   "metadata": {
    "collapsed": true
   },
   "outputs": [],
   "source": [
    "m = 1000 # measurment number \n",
    "rmat = np.random.randn(m,img.shape[0]*img.shape[1]) # random matrix\n",
    "measurements = np.dot(rmat,img.reshape(img.shape[0]*img.shape[1])) # measurements"
   ]
  },
  {
   "cell_type": "markdown",
   "metadata": {},
   "source": [
    "As you observe, the above dataset is not sparse. However its 2d cosine transform, which is ploted in the next section, is sparse."
   ]
  },
  {
   "cell_type": "code",
   "execution_count": null,
   "metadata": {
    "collapsed": false,
    "scrolled": true
   },
   "outputs": [],
   "source": [
    "dcti = dct(img)\n",
    "plt.imshow(dcti)"
   ]
  },
  {
   "cell_type": "markdown",
   "metadata": {},
   "source": [
    "Use the above fact to recontruct the orginal signal from random measurements (Hint: You can also use sklearn.linear_model.Lasso())"
   ]
  },
  {
   "cell_type": "code",
   "execution_count": null,
   "metadata": {
    "collapsed": true
   },
   "outputs": [],
   "source": []
  }
 ],
 "metadata": {
  "kernelspec": {
   "display_name": "Python 2",
   "language": "python",
   "name": "python2"
  },
  "language_info": {
   "codemirror_mode": {
    "name": "ipython",
    "version": 2
   },
   "file_extension": ".py",
   "mimetype": "text/x-python",
   "name": "python",
   "nbconvert_exporter": "python",
   "pygments_lexer": "ipython2",
   "version": "2.7.11"
  }
 },
 "nbformat": 4,
 "nbformat_minor": 0
}
